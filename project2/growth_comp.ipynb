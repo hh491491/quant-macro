{
  "cells": [
    {
      "cell_type": "code",
      "execution_count": null,
      "metadata": {
        "colab": {
          "base_uri": "https://localhost:8080/"
        },
        "id": "7xY0PSws21Ex",
        "outputId": "1b1ce765-9387-4417-b371-c83e939bc6fa"
      },
      "outputs": [
        {
          "ename": "",
          "evalue": "",
          "output_type": "error",
          "traceback": [
            "\u001b[1;31m'/Users/hayashihirofumi/.pyenv/versions/3.7.7/bin/python3.7' でセルを実行するには、 ipykernel パッケージが必要です。\n",
            "\u001b[1;31mRun the following command to install 'ipykernel' into the Python environment. \n",
            "\u001b[1;31mCommand: '/Users/hayashihirofumi/.pyenv/versions/3.7.7/bin/python3.7 -m pip install ipykernel -U --force-reinstall'"
          ]
        }
      ],
      "source": [
        "import pandas as pd\n",
        "import numpy as np\n",
        "\n",
        "\n",
        "# Load data\n",
        "pwt1001 = pd.read_stata('https://dataverse.nl/api/access/datafile/354098')\n",
        "\n",
        "# Filter and select relevant columns\n",
        "data = pwt1001.loc[pwt1001['country'].isin(['France', 'Germany', 'Canada', 'Italy', 'Japan', 'United Kingdom', 'United States'])][[\n",
        "    'year', 'country', 'rgdpna', 'rkna', 'emp', 'labsh', 'rtfpna']]\n",
        "data = data.loc[(data['year'] >= 1995) & (data['year'] <= 2019)].dropna()\n",
        "\n",
        "# Calculate additional columns\n",
        "data['y_n'] = np.log(data['rgdpna'] / data['emp'])  # GDP per worker[ln(Y/N)]\n",
        "data['A'] = np.log(data['rtfpna'])  # TFP\n",
        "data['k_n'] = np.log(data['rkna'] / data['emp'])  # Capital per worker[ln(K/N)]\n",
        "data['alpha'] = 1 - data['labsh']  # Capital share[α]\n",
        "\n",
        "# Order by year\n",
        "data = data.sort_values('year')\n",
        "\n",
        "# Group by isocode\n",
        "grouped_data = data.groupby('country')\n",
        "\n",
        "# Calculate growth rates and Solow residual\n",
        "# Growth rate of GDP per capita[Δy/y]\n",
        "data['Growth Rate'] = (grouped_data['y_n'].diff() * 100)\n",
        "data['TFP Growth'] = (grouped_data['A'].diff() * 100)  # TFP Growth[ΔA/A]\n",
        "data['Capital Deepening'] = data['alpha'] * \\\n",
        "    (grouped_data['k_n'].diff() * 100)  # Capital Deepening[a * Δk/k]\n",
        "data['TFP Share'] = data['labsh']  # TFP Share = labar Share?????\n",
        "data['Capital Share'] = data['alpha']\n",
        "\n",
        "# Remove missing values\n",
        "data = data.dropna()\n",
        "\n",
        "# Calculate summary statistics\n",
        "summary = data.groupby('country').agg({'Growth Rate': 'mean', 'TFP Growth': 'mean',\n",
        "                                       'Capital Deepening': 'mean', 'TFP Share': \"mean\", 'Capital Share': \"mean\"})\n",
        "\n",
        "# Calculate additional summary statistics\n",
        "\n",
        "# Print output\n",
        "print(summary)\n"
      ]
    }
  ],
  "metadata": {
    "colab": {
      "provenance": []
    },
    "kernelspec": {
      "display_name": "Python 3",
      "name": "python3"
    },
    "language_info": {
      "name": "python",
      "version": "3.7.7"
    }
  },
  "nbformat": 4,
  "nbformat_minor": 0
}
